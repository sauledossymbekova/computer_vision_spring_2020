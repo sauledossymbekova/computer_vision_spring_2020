{
 "cells": [
  {
   "cell_type": "markdown",
   "metadata": {},
   "source": [
    "# Big problem\n",
    "___\n",
    "You will need to make a program that will draw edges on the main object on the image also show the image features.You will also need to come up with your own additional tool.\n",
    "___\n",
    "Criteria:\n",
    "\n",
    "1) Interface(2 points)\n",
    "\n",
    "2) Code cleanliness(2 points)\n",
    "\n",
    "3) Code execution speed(2 points)\n",
    "\n",
    "4) Adaptability to any image(2 points)\n",
    "\n",
    "5) Additional tool(2 points)\n",
    "___\n",
    "Points = __10__"
   ]
  },
  {
   "cell_type": "code",
   "execution_count": null,
   "metadata": {},
   "outputs": [],
   "source": []
  }
 ],
 "metadata": {
  "kernelspec": {
   "display_name": "Python 3",
   "language": "python",
   "name": "python3"
  },
  "language_info": {
   "codemirror_mode": {
    "name": "ipython",
    "version": 3
   },
   "file_extension": ".py",
   "mimetype": "text/x-python",
   "name": "python",
   "nbconvert_exporter": "python",
   "pygments_lexer": "ipython3",
   "version": "3.7.4"
  }
 },
 "nbformat": 4,
 "nbformat_minor": 2
}
