{
 "cells": [
  {
   "cell_type": "code",
   "execution_count": null,
   "metadata": {},
   "outputs": [],
   "source": [
    "%matplotlib inline\n",
    "import matplotlib.pyplot as mat\n",
    "import cv2\n",
    "import numpy as np\n",
    "img1 = cv2.imread(\"planet.png\", cv2.COLOR_BGR2RGB)\n",
    "img2 = cv2.imread(\"planet1.png\", cv2.COLOR_BGR2RGB)\n",
    "\n",
    "orb = cv2.ORB_create()\n",
    "kp1, des1 = orb.detectAndCompute(img1, None)\n",
    "kp2, des2 = orb.detectAndCompute(img2, None)\n",
    "\n",
    "bruteforce = cv2.BFMatcher(cv2.NORM_HAMMING, crossCheck=True)\n",
    "matches = bruteforce.match(des1, des2)\n",
    "matches = sorted(matches, key = lambda x:x.distance)\n",
    "matching_result = cv2.drawMatches(img1, kp1, img2, kp2, matches[:20], None, flags=10)\n",
    "cv2.imshow(\"Matching result\", matching_result)\n",
    "cv2.waitKey(0)\n",
    "cv2.destroyAllWindows()"
   ]
  },
  {
   "cell_type": "code",
   "execution_count": null,
   "metadata": {},
   "outputs": [],
   "source": [
    "%matplotlib inline\n",
    "import matplotlib.pyplot as mat\n",
    "import cv2\n",
    "import numpy as np\n",
    "image = cv2.imread(\"planet.png\")\n",
    "image = cv2.cvtColor(image, cv2.COLOR_BGR2RGB)\n",
    "orb = cv2.ORB_create(50)\n",
    "kp, des = orb.detectAndCompute(image, None)\n",
    "new_image = cv2.drawKeypoints(image, kp, None, flags=10)\n",
    "mat.imshow(new_image)"
   ]
  },
  {
   "cell_type": "code",
   "execution_count": null,
   "metadata": {},
   "outputs": [],
   "source": []
  },
  {
   "cell_type": "code",
   "execution_count": null,
   "metadata": {},
   "outputs": [],
   "source": []
  }
 ],
 "metadata": {
  "kernelspec": {
   "display_name": "Python 3",
   "language": "python",
   "name": "python3"
  },
  "language_info": {
   "codemirror_mode": {
    "name": "ipython",
    "version": 3
   },
   "file_extension": ".py",
   "mimetype": "text/x-python",
   "name": "python",
   "nbconvert_exporter": "python",
   "pygments_lexer": "ipython3",
   "version": "3.7.4"
  }
 },
 "nbformat": 4,
 "nbformat_minor": 2
}
